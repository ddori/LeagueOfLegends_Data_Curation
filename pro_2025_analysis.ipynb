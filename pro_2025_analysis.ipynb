{
 "cells": [
  {
   "cell_type": "code",
   "execution_count": null,
   "id": "3d9d05d9",
   "metadata": {},
   "outputs": [],
   "source": [
    "\n",
    "import pandas as pd\n",
    "import numpy as np\n",
    "import matplotlib.pyplot as plt\n",
    "\n",
    "csv_path = \"pro_2025.csv\"\n",
    "df = pd.read_csv(csv_path, low_memory=False)\n",
    "df_cols = set(df.columns.str.lower())\n",
    "if 'patch' in df.columns:\n",
    "    df['patch_major'] = df['patch'].astype(str).str.extract(r'^(\\d+\\.\\d+)').fillna(df['patch'].astype(str))\n",
    "if 'position' in df.columns:\n",
    "    order_pos = ['TOP','JUNGLE','MID','ADC','SUPPORT']\n",
    "    df['position'] = df['position'].astype(str).str.upper()\n",
    "    df['position'] = pd.Categorical(df['position'], categories=order_pos, ordered=True)\n",
    "plt.figure(figsize=(9,5))\n",
    "counts = pd.Series(1, index=df.index).groupby(df.index).size()\n",
    "plt.hist(counts, bins=10)\n",
    "plt.title(\"Row Count Snapshot\")\n",
    "plt.tight_layout()\n"
   ]
  },
  {
   "cell_type": "code",
   "execution_count": null,
   "id": "8929b5af",
   "metadata": {},
   "outputs": [],
   "source": [
    "\n",
    "cands = ['league','event','tournament','split','stage']\n",
    "key = next((c for c in cands if c in df.columns), None)\n",
    "if key is not None:\n",
    "    agg = df.groupby(key).size().reset_index(name='rows').sort_values('rows', ascending=False).head(20)\n",
    "    plt.figure(figsize=(10,6))\n",
    "    plt.bar(agg[key].astype(str), agg['rows'])\n",
    "    plt.title(\"Rows by Competition\")\n",
    "    plt.xticks(rotation=45, ha='right')\n",
    "    plt.tight_layout()\n"
   ]
  },
  {
   "cell_type": "code",
   "execution_count": null,
   "id": "44babc39",
   "metadata": {},
   "outputs": [],
   "source": [
    "\n",
    "if {'side','result'}.issubset(df.columns):\n",
    "    tmp = df[['side','result']].copy()\n",
    "    tmp['result'] = tmp['result'].astype(str).str.lower().map({'win':1,'loss':0,'1':1,'0':0}).fillna(np.nan)\n",
    "    agg = tmp.groupby('side')['result'].mean().mul(100).reset_index(name='win_rate').dropna()\n",
    "    plt.figure(figsize=(7,5))\n",
    "    plt.bar(agg['side'].astype(str), agg['win_rate'])\n",
    "    plt.title(\"Win Rate by Side (%)\")\n",
    "    plt.tight_layout()\n"
   ]
  },
  {
   "cell_type": "code",
   "execution_count": null,
   "id": "2df766fe",
   "metadata": {},
   "outputs": [],
   "source": [
    "\n",
    "if 'gameid' in df.columns:\n",
    "    by_patch = None\n",
    "    if 'patch_major' in df.columns:\n",
    "        by_patch = df.groupby('patch_major')['gameid'].nunique().reset_index(name='games').sort_values('patch_major')\n",
    "    elif 'patch' in df.columns:\n",
    "        by_patch = df.groupby('patch')['gameid'].nunique().reset_index(name='games').sort_values('patch')\n",
    "    if by_patch is not None:\n",
    "        plt.figure(figsize=(10,5))\n",
    "        plt.plot(by_patch.iloc[:,0].astype(str), by_patch['games'], marker='o')\n",
    "        plt.title(\"Games by Patch\")\n",
    "        plt.xticks(rotation=45, ha='right')\n",
    "        plt.tight_layout()\n"
   ]
  },
  {
   "cell_type": "code",
   "execution_count": null,
   "id": "c1813b79",
   "metadata": {},
   "outputs": [],
   "source": [
    "\n",
    "cand_dur = next((c for c in ['gameduration','game_time','game_time_s','duration','time'] if c in df.columns), None)\n",
    "if cand_dur is not None:\n",
    "    v = df[cand_dur]\n",
    "    v = v / 60.0 if v.max() > 2000 else v\n",
    "    plt.figure(figsize=(9,5))\n",
    "    plt.hist(v.dropna(), bins=30)\n",
    "    plt.title(\"Game Duration (minutes)\")\n",
    "    plt.tight_layout()\n"
   ]
  },
  {
   "cell_type": "code",
   "execution_count": null,
   "id": "49c7b877",
   "metadata": {},
   "outputs": [],
   "source": [
    "\n",
    "if {'position','kills','deaths','assists'}.issubset(df.columns):\n",
    "    safe = df['deaths'].replace(0, np.nan)\n",
    "    kda = (df['kills'] + df['assists']) / safe\n",
    "    kda = kda.replace([np.inf,-np.inf], np.nan).fillna(df['kills'] + df['assists'])\n",
    "    agg = pd.DataFrame({'position':df['position'], 'kda':kda}).groupby('position')['kda'].median().reset_index()\n",
    "    plt.figure(figsize=(9,5))\n",
    "    plt.plot(agg['position'].astype(str), agg['kda'], marker='o')\n",
    "    plt.title(\"Median KDA by Position\")\n",
    "    plt.tight_layout()\n"
   ]
  },
  {
   "cell_type": "code",
   "execution_count": null,
   "id": "0e1e57e0",
   "metadata": {},
   "outputs": [],
   "source": [
    "\n",
    "cand_cspm = next((c for c in ['cspm','cs_per_minute','csmin','cs/min'] if c in df.columns), None)\n",
    "if cand_cspm is not None and 'position' in df.columns:\n",
    "    agg = df.groupby('position')[cand_cspm].mean().reset_index()\n",
    "    plt.figure(figsize=(9,5))\n",
    "    plt.plot(agg['position'].astype(str), agg[cand_cspm], marker='o')\n",
    "    plt.title(\"CS per Minute by Position (mean)\")\n",
    "    plt.tight_layout()\n"
   ]
  },
  {
   "cell_type": "code",
   "execution_count": null,
   "id": "a530298f",
   "metadata": {},
   "outputs": [],
   "source": [
    "\n",
    "cand_gdiff15 = next((c for c in ['gldiffat15','golddiffat15','gdiff15','goldat15diff','gd15'] if c in df.columns), None)\n",
    "if cand_gdiff15 is not None and 'side' in df.columns:\n",
    "    plt.figure(figsize=(9,5))\n",
    "    for s in sorted(df['side'].dropna().astype(str).unique()[:5]):\n",
    "        vs = df.loc[df['side'].astype(str)==s, cand_gdiff15].dropna()\n",
    "        if len(vs) > 0:\n",
    "            plt.hist(vs, bins=30, alpha=0.5, label=s)\n",
    "    plt.title(\"Gold Diff @15 by Side\")\n",
    "    plt.legend()\n",
    "    plt.tight_layout()\n"
   ]
  },
  {
   "cell_type": "code",
   "execution_count": null,
   "id": "df081790",
   "metadata": {},
   "outputs": [],
   "source": [
    "\n",
    "champ_col = next((c for c in ['champion','championname','champ'] if c in df.columns), None)\n",
    "if champ_col is not None:\n",
    "    pick = df[champ_col].value_counts().head(20).sort_values(ascending=True)\n",
    "    plt.figure(figsize=(8,8))\n",
    "    plt.barh(pick.index.astype(str), pick.values)\n",
    "    plt.title(\"Champion Pick Count (Top 20)\")\n",
    "    plt.tight_layout()\n"
   ]
  },
  {
   "cell_type": "code",
   "execution_count": null,
   "id": "57870186",
   "metadata": {},
   "outputs": [],
   "source": [
    "\n",
    "ban_cols = [c for c in df.columns if str(c).lower().startswith('ban')]\n",
    "if ban_cols:\n",
    "    bans = pd.Series([], dtype=object)\n",
    "    for c in ban_cols:\n",
    "        bans = pd.concat([bans, df[c].dropna().astype(str)])\n",
    "    top = bans.value_counts().head(20).sort_values(ascending=True)\n",
    "    plt.figure(figsize=(8,8))\n",
    "    plt.barh(top.index.astype(str), top.values)\n",
    "    plt.title(\"Champion Ban Count (Top 20)\")\n",
    "    plt.tight_layout()\n"
   ]
  },
  {
   "cell_type": "code",
   "execution_count": null,
   "id": "e778f4db",
   "metadata": {},
   "outputs": [],
   "source": [
    "\n",
    "champ_col = next((c for c in ['champion','championname','champ'] if c in df.columns), None)\n",
    "ban_cols = [c for c in df.columns if str(c).lower().startswith('ban')]\n",
    "if champ_col is not None:\n",
    "    picks = df[champ_col].dropna().astype(str)\n",
    "    if ban_cols:\n",
    "        bans = pd.Series([], dtype=object)\n",
    "        for c in ban_cols:\n",
    "            bans = pd.concat([bans, df[c].dropna().astype(str)])\n",
    "        pres = pd.concat([picks, bans]).value_counts().head(20).sort_values(ascending=True)\n",
    "    else:\n",
    "        pres = picks.value_counts().head(20).sort_values(ascending=True)\n",
    "    plt.figure(figsize=(8,8))\n",
    "    plt.barh(pres.index.astype(str), pres.values)\n",
    "    plt.title(\"Champion Presence (Pick+Ban) Top 20\")\n",
    "    plt.tight_layout()\n"
   ]
  },
  {
   "cell_type": "code",
   "execution_count": null,
   "id": "b1498841",
   "metadata": {},
   "outputs": [],
   "source": [
    "\n",
    "champ_col = next((c for c in ['champion','championname','champ'] if c in df.columns), None)\n",
    "if champ_col is not None and {'result',champ_col}.issubset(df.columns):\n",
    "    tmp = df[[champ_col,'result']].copy()\n",
    "    tmp['result'] = tmp['result'].astype(str).str.lower().map({'win':1,'loss':0,'1':1,'0':0}).fillna(np.nan)\n",
    "    agg = tmp.groupby(champ_col).agg(picks=('result','size'), wr=('result','mean')).dropna()\n",
    "    agg['wr'] = agg['wr']*100.0\n",
    "    top = agg.sort_values('picks', ascending=False).head(30)\n",
    "    plt.figure(figsize=(9,6))\n",
    "    plt.scatter(top['picks'], top['wr'])\n",
    "    for i, (name, r) in enumerate(top.iterrows()):\n",
    "        plt.annotate(str(name), (r['picks'], r['wr']))\n",
    "    plt.title(\"Champion Win Rate vs Picks (Top 30 picks)\")\n",
    "    plt.xlabel(\"Picks\")\n",
    "    plt.ylabel(\"Win Rate (%)\")\n",
    "    plt.tight_layout()\n"
   ]
  },
  {
   "cell_type": "code",
   "execution_count": null,
   "id": "fe3ca470",
   "metadata": {},
   "outputs": [],
   "source": [
    "\n",
    "obj_cols = [c for c in ['dragons','barons','towers','heralds','elderdragons'] if c in df.columns]\n",
    "team_key = next((c for c in ['team','teamname'] if c in df.columns), None)\n",
    "if obj_cols and team_key is not None:\n",
    "    agg = df.groupby(team_key)[obj_cols].mean().reset_index()\n",
    "    for c in obj_cols:\n",
    "        top = agg.nlargest(15, c)[[team_key, c]].iloc[::-1]\n",
    "        plt.figure(figsize=(9,6))\n",
    "        plt.barh(top[team_key].astype(str), top[c])\n",
    "        plt.title(f\"{c} per Game (Top 15 teams)\")\n",
    "        plt.tight_layout()\n",
    "        break\n"
   ]
  },
  {
   "cell_type": "code",
   "execution_count": null,
   "id": "33696feb",
   "metadata": {},
   "outputs": [],
   "source": [
    "\n",
    "if 'patch_major' in df.columns:\n",
    "    counts = df['patch_major'].value_counts().sort_index()\n",
    "    plt.figure(figsize=(10,5))\n",
    "    plt.plot(counts.index.astype(str), counts.values, marker='o')\n",
    "    plt.title(\"Patch Distribution\")\n",
    "    plt.xticks(rotation=45, ha='right')\n",
    "    plt.tight_layout()\n"
   ]
  }
 ],
 "metadata": {},
 "nbformat": 4,
 "nbformat_minor": 5
}
